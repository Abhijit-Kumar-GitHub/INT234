{
 "cells": [
  {
   "metadata": {},
   "cell_type": "markdown",
   "source": [
    "# Day 2 : Feature Scaling\n",
    "\n",
    "part of the data preprocessing\n",
    "\n",
    "> adjusts feature ranges to similar scales\n",
    "> prevents large-valued features from dominating others\n",
    "> Imp for KNN, SVM, Neural Networks\n",
    "> Ensures fair contribution of all the features\n",
    "> eg. age(18-800 vs income(10000-200000)\n",
    "\n",
    "\n",
    "\n",
    "### Normalization (Min-max scaling)\n",
    "\n",
    "> rescales values into [0,1] range.\n",
    "> formula: (x-x_min)/(x_max - x_min)\n",
    "> used when data is not normally distributed\n",
    "> used in distance-based models like KNN, Neural Nets.\n",
    "> eg. age = 50, min = 20, max = 80 -> 0.5\n",
    "\n",
    "### Standardization (Zscore scaling)\n",
    "\n",
    "> Centes data : mean = 0, std=1.\n",
    "> formula: (x - mean) / std\n",
    "> used when data is normally distributed\n",
    "> used in linear models like SVM, Regression\n",
    "> Example: age = 50, mean = 40, std=10 -> 1.0\n",
    "\n",
    "### Normalization vs Standardization\n",
    "\n",
    "> Normalization:    [0,1] range, sensitive outliers.        Keeps Shape\n",
    "> Standardization: mean = 0, std = 1, no fixed range.       keeps\n",
    ">\n",
    "\n",
    "## Label Encoding\n",
    "\n",
    "> coverts categorical data (string/text) into numeric form.\n",
    "> each category gets a unique number\n",
    "> useful for ordered data like small < medium < large\n",
    "\n",
    "```\n",
    "from sklearn.preprocessing import LabelEncoder\n",
    "\n",
    "le = LabelEncoder()\n",
    "df['Color_encoded'] = le.fit_transform(df['Color'])\n",
    "```\n",
    "\n",
    "## One-Hot Encoding\n",
    "\n",
    "> converts categorical data in multiple binary(0/1) columns.\n",
    "> no numeric order - ideal for non-ordinal data likecolor, cities, etc.\n",
    "\n",
    "```\n",
    "pd.get_dummis(df, columns=['Color'])\n",
    "```"
   ],
   "id": "2734addfadf6fd93"
  },
  {
   "metadata": {
    "ExecuteTime": {
     "end_time": "2025-10-13T04:57:50.825608Z",
     "start_time": "2025-10-13T04:57:50.819703Z"
    }
   },
   "cell_type": "code",
   "source": [
    "\n",
    "import numpy as np\n",
    "import pandas as pd\n",
    "import matplotlib.pyplot as plt\n",
    "import seaborn as sns"
   ],
   "id": "7900ee4f0e3a9216",
   "outputs": [],
   "execution_count": 53
  },
  {
   "metadata": {
    "ExecuteTime": {
     "end_time": "2025-10-13T04:57:50.877542Z",
     "start_time": "2025-10-13T04:57:50.854315Z"
    }
   },
   "cell_type": "code",
   "source": [
    "df = pd.read_csv(\"../DataSets/ecommerce_customers_unit1.csv\")\n",
    "df"
   ],
   "id": "149571cfb6bb5587",
   "outputs": [
    {
     "data": {
      "text/plain": [
       "     customer_id   age  gender  country signup_date last_purchase_date  \\\n",
       "0          10001  56.0    Male    India  2022-01-27         2024-04-27   \n",
       "1          10002  69.0   Other       UK  2025-01-12         2025-08-01   \n",
       "2          10003  46.0  Female      USA  2021-04-25         2021-06-01   \n",
       "3          10004  32.0    Male    India  2021-02-23         2023-09-22   \n",
       "4          10005  60.0  Female    India  2021-06-07         2021-12-11   \n",
       "..           ...   ...     ...      ...         ...                ...   \n",
       "600        10358  25.0  Female    India  2023-09-04         2025-06-18   \n",
       "601        10117  50.0    Male      USA  2024-05-11         2024-11-08   \n",
       "602        10599  46.0    Male    India  2020-12-01         2024-06-25   \n",
       "603        10442  32.0  Female       UK  2023-12-20         2024-09-20   \n",
       "604        10555  44.0  Female  Germany  2024-06-16         2024-12-09   \n",
       "\n",
       "     num_orders  total_spent  avg_order_value  recency_days  \\\n",
       "0            10     13273.25          1327.32           522   \n",
       "1            10          NaN           308.90            61   \n",
       "2             5      3411.83           682.37          1583   \n",
       "3             5      4502.00           900.40           740   \n",
       "4             7      3842.10           548.87          1390   \n",
       "..          ...          ...              ...           ...   \n",
       "600           7          NaN             0.00           105   \n",
       "601           4      3640.07           910.02           327   \n",
       "602           6      2176.22           362.70           463   \n",
       "603           3      5478.65          1826.22           376   \n",
       "604           6      5408.13           901.36           296   \n",
       "\n",
       "     is_premium_member device_type preferred_category  churned  \n",
       "0                    0         NaN               Home        0  \n",
       "1                    0      Mobile            Grocery        0  \n",
       "2                    0         NaN                NaN        0  \n",
       "3                    0         NaN                NaN        0  \n",
       "4                    0      Tablet              Books        0  \n",
       "..                 ...         ...                ...      ...  \n",
       "600                  1      Mobile        Electronics        0  \n",
       "601                  0      Mobile        Electronics        0  \n",
       "602                  1     Desktop        Electronics        0  \n",
       "603                  0      Mobile               Home        0  \n",
       "604                  0      Mobile            Fashion        0  \n",
       "\n",
       "[605 rows x 14 columns]"
      ],
      "text/html": [
       "<div>\n",
       "<style scoped>\n",
       "    .dataframe tbody tr th:only-of-type {\n",
       "        vertical-align: middle;\n",
       "    }\n",
       "\n",
       "    .dataframe tbody tr th {\n",
       "        vertical-align: top;\n",
       "    }\n",
       "\n",
       "    .dataframe thead th {\n",
       "        text-align: right;\n",
       "    }\n",
       "</style>\n",
       "<table border=\"1\" class=\"dataframe\">\n",
       "  <thead>\n",
       "    <tr style=\"text-align: right;\">\n",
       "      <th></th>\n",
       "      <th>customer_id</th>\n",
       "      <th>age</th>\n",
       "      <th>gender</th>\n",
       "      <th>country</th>\n",
       "      <th>signup_date</th>\n",
       "      <th>last_purchase_date</th>\n",
       "      <th>num_orders</th>\n",
       "      <th>total_spent</th>\n",
       "      <th>avg_order_value</th>\n",
       "      <th>recency_days</th>\n",
       "      <th>is_premium_member</th>\n",
       "      <th>device_type</th>\n",
       "      <th>preferred_category</th>\n",
       "      <th>churned</th>\n",
       "    </tr>\n",
       "  </thead>\n",
       "  <tbody>\n",
       "    <tr>\n",
       "      <th>0</th>\n",
       "      <td>10001</td>\n",
       "      <td>56.0</td>\n",
       "      <td>Male</td>\n",
       "      <td>India</td>\n",
       "      <td>2022-01-27</td>\n",
       "      <td>2024-04-27</td>\n",
       "      <td>10</td>\n",
       "      <td>13273.25</td>\n",
       "      <td>1327.32</td>\n",
       "      <td>522</td>\n",
       "      <td>0</td>\n",
       "      <td>NaN</td>\n",
       "      <td>Home</td>\n",
       "      <td>0</td>\n",
       "    </tr>\n",
       "    <tr>\n",
       "      <th>1</th>\n",
       "      <td>10002</td>\n",
       "      <td>69.0</td>\n",
       "      <td>Other</td>\n",
       "      <td>UK</td>\n",
       "      <td>2025-01-12</td>\n",
       "      <td>2025-08-01</td>\n",
       "      <td>10</td>\n",
       "      <td>NaN</td>\n",
       "      <td>308.90</td>\n",
       "      <td>61</td>\n",
       "      <td>0</td>\n",
       "      <td>Mobile</td>\n",
       "      <td>Grocery</td>\n",
       "      <td>0</td>\n",
       "    </tr>\n",
       "    <tr>\n",
       "      <th>2</th>\n",
       "      <td>10003</td>\n",
       "      <td>46.0</td>\n",
       "      <td>Female</td>\n",
       "      <td>USA</td>\n",
       "      <td>2021-04-25</td>\n",
       "      <td>2021-06-01</td>\n",
       "      <td>5</td>\n",
       "      <td>3411.83</td>\n",
       "      <td>682.37</td>\n",
       "      <td>1583</td>\n",
       "      <td>0</td>\n",
       "      <td>NaN</td>\n",
       "      <td>NaN</td>\n",
       "      <td>0</td>\n",
       "    </tr>\n",
       "    <tr>\n",
       "      <th>3</th>\n",
       "      <td>10004</td>\n",
       "      <td>32.0</td>\n",
       "      <td>Male</td>\n",
       "      <td>India</td>\n",
       "      <td>2021-02-23</td>\n",
       "      <td>2023-09-22</td>\n",
       "      <td>5</td>\n",
       "      <td>4502.00</td>\n",
       "      <td>900.40</td>\n",
       "      <td>740</td>\n",
       "      <td>0</td>\n",
       "      <td>NaN</td>\n",
       "      <td>NaN</td>\n",
       "      <td>0</td>\n",
       "    </tr>\n",
       "    <tr>\n",
       "      <th>4</th>\n",
       "      <td>10005</td>\n",
       "      <td>60.0</td>\n",
       "      <td>Female</td>\n",
       "      <td>India</td>\n",
       "      <td>2021-06-07</td>\n",
       "      <td>2021-12-11</td>\n",
       "      <td>7</td>\n",
       "      <td>3842.10</td>\n",
       "      <td>548.87</td>\n",
       "      <td>1390</td>\n",
       "      <td>0</td>\n",
       "      <td>Tablet</td>\n",
       "      <td>Books</td>\n",
       "      <td>0</td>\n",
       "    </tr>\n",
       "    <tr>\n",
       "      <th>...</th>\n",
       "      <td>...</td>\n",
       "      <td>...</td>\n",
       "      <td>...</td>\n",
       "      <td>...</td>\n",
       "      <td>...</td>\n",
       "      <td>...</td>\n",
       "      <td>...</td>\n",
       "      <td>...</td>\n",
       "      <td>...</td>\n",
       "      <td>...</td>\n",
       "      <td>...</td>\n",
       "      <td>...</td>\n",
       "      <td>...</td>\n",
       "      <td>...</td>\n",
       "    </tr>\n",
       "    <tr>\n",
       "      <th>600</th>\n",
       "      <td>10358</td>\n",
       "      <td>25.0</td>\n",
       "      <td>Female</td>\n",
       "      <td>India</td>\n",
       "      <td>2023-09-04</td>\n",
       "      <td>2025-06-18</td>\n",
       "      <td>7</td>\n",
       "      <td>NaN</td>\n",
       "      <td>0.00</td>\n",
       "      <td>105</td>\n",
       "      <td>1</td>\n",
       "      <td>Mobile</td>\n",
       "      <td>Electronics</td>\n",
       "      <td>0</td>\n",
       "    </tr>\n",
       "    <tr>\n",
       "      <th>601</th>\n",
       "      <td>10117</td>\n",
       "      <td>50.0</td>\n",
       "      <td>Male</td>\n",
       "      <td>USA</td>\n",
       "      <td>2024-05-11</td>\n",
       "      <td>2024-11-08</td>\n",
       "      <td>4</td>\n",
       "      <td>3640.07</td>\n",
       "      <td>910.02</td>\n",
       "      <td>327</td>\n",
       "      <td>0</td>\n",
       "      <td>Mobile</td>\n",
       "      <td>Electronics</td>\n",
       "      <td>0</td>\n",
       "    </tr>\n",
       "    <tr>\n",
       "      <th>602</th>\n",
       "      <td>10599</td>\n",
       "      <td>46.0</td>\n",
       "      <td>Male</td>\n",
       "      <td>India</td>\n",
       "      <td>2020-12-01</td>\n",
       "      <td>2024-06-25</td>\n",
       "      <td>6</td>\n",
       "      <td>2176.22</td>\n",
       "      <td>362.70</td>\n",
       "      <td>463</td>\n",
       "      <td>1</td>\n",
       "      <td>Desktop</td>\n",
       "      <td>Electronics</td>\n",
       "      <td>0</td>\n",
       "    </tr>\n",
       "    <tr>\n",
       "      <th>603</th>\n",
       "      <td>10442</td>\n",
       "      <td>32.0</td>\n",
       "      <td>Female</td>\n",
       "      <td>UK</td>\n",
       "      <td>2023-12-20</td>\n",
       "      <td>2024-09-20</td>\n",
       "      <td>3</td>\n",
       "      <td>5478.65</td>\n",
       "      <td>1826.22</td>\n",
       "      <td>376</td>\n",
       "      <td>0</td>\n",
       "      <td>Mobile</td>\n",
       "      <td>Home</td>\n",
       "      <td>0</td>\n",
       "    </tr>\n",
       "    <tr>\n",
       "      <th>604</th>\n",
       "      <td>10555</td>\n",
       "      <td>44.0</td>\n",
       "      <td>Female</td>\n",
       "      <td>Germany</td>\n",
       "      <td>2024-06-16</td>\n",
       "      <td>2024-12-09</td>\n",
       "      <td>6</td>\n",
       "      <td>5408.13</td>\n",
       "      <td>901.36</td>\n",
       "      <td>296</td>\n",
       "      <td>0</td>\n",
       "      <td>Mobile</td>\n",
       "      <td>Fashion</td>\n",
       "      <td>0</td>\n",
       "    </tr>\n",
       "  </tbody>\n",
       "</table>\n",
       "<p>605 rows × 14 columns</p>\n",
       "</div>"
      ]
     },
     "execution_count": 54,
     "metadata": {},
     "output_type": "execute_result"
    }
   ],
   "execution_count": 54
  },
  {
   "metadata": {
    "ExecuteTime": {
     "end_time": "2025-10-13T04:57:50.942495Z",
     "start_time": "2025-10-13T04:57:50.932250Z"
    }
   },
   "cell_type": "code",
   "source": [
    "target = df.isna().sum().sort_values(ascending=False)\n",
    "target"
   ],
   "id": "568a6606bfdc8015",
   "outputs": [
    {
     "data": {
      "text/plain": [
       "gender                34\n",
       "total_spent           34\n",
       "country               32\n",
       "device_type           30\n",
       "age                   28\n",
       "preferred_category    22\n",
       "last_purchase_date     0\n",
       "signup_date            0\n",
       "customer_id            0\n",
       "num_orders             0\n",
       "recency_days           0\n",
       "avg_order_value        0\n",
       "is_premium_member      0\n",
       "churned                0\n",
       "dtype: int64"
      ]
     },
     "execution_count": 55,
     "metadata": {},
     "output_type": "execute_result"
    }
   ],
   "execution_count": 55
  },
  {
   "metadata": {
    "ExecuteTime": {
     "end_time": "2025-10-13T04:57:51.199969Z",
     "start_time": "2025-10-13T04:57:51.039270Z"
    }
   },
   "cell_type": "code",
   "source": [
    "#barplot using plt\n",
    "\n",
    "plt.figure(figsize=(20, 6))\n",
    "plt.bar(target.index, target)\n",
    "plt.xticks(rotation=90)\n",
    "plt.show()"
   ],
   "id": "bae224babe63edae",
   "outputs": [
    {
     "data": {
      "text/plain": [
       "<Figure size 2000x600 with 1 Axes>"
      ],
      "image/png": "[encoded data removed]"
     },
     "metadata": {},
     "output_type": "display_data"
    }
   ],
   "execution_count": 56
  },
  {
   "metadata": {
    "ExecuteTime": {
     "end_time": "2025-10-13T04:57:51.479204Z",
     "start_time": "2025-10-13T04:57:51.291024Z"
    }
   },
   "cell_type": "code",
   "source": [
    "#barplot using sns\n",
    "\n",
    "plt.figure(figsize=(20, 6))\n",
    "sns.barplot(target)\n",
    "plt.xticks(rotation=90)\n",
    "plt.show()"
   ],
   "id": "6816fdc2b875c27",
   "outputs": [
    {
     "data": {
      "text/plain": [
       "<Figure size 2000x600 with 1 Axes>"
      ],
      "image/png": "[encoded data removed]"
     },
     "metadata": {},
     "output_type": "display_data"
    }
   ],
   "execution_count": 57
  },
  {
   "metadata": {
    "ExecuteTime": {
     "end_time": "2025-10-13T04:57:51.533335Z",
     "start_time": "2025-10-13T04:57:51.521149Z"
    }
   },
   "cell_type": "code",
   "source": [
    "#before finding outlier gotta handle the null values and select only numeric vals\n",
    "df = df.select_dtypes(include=[np.number, np.float64])\n",
    "\n",
    "df.fillna(df.mean(), inplace=True)\n",
    "df.isna().sum()"
   ],
   "id": "6f9d4fbec6a5cfdd",
   "outputs": [
    {
     "data": {
      "text/plain": [
       "customer_id          0\n",
       "age                  0\n",
       "num_orders           0\n",
       "total_spent          0\n",
       "avg_order_value      0\n",
       "recency_days         0\n",
       "is_premium_member    0\n",
       "churned              0\n",
       "dtype: int64"
      ]
     },
     "execution_count": 58,
     "metadata": {},
     "output_type": "execute_result"
    }
   ],
   "execution_count": 58
  },
  {
   "metadata": {
    "ExecuteTime": {
     "end_time": "2025-10-13T04:57:51.604209Z",
     "start_time": "2025-10-13T04:57:51.586965Z"
    }
   },
   "cell_type": "code",
   "source": [
    "q1 = df.quantile(0.25)\n",
    "q3 = df.quantile(0.75)\n",
    "\n",
    "iqr = q3 - q1\n",
    "\n",
    "out = df[(df < q1 - 1.5 * iqr) | (df > q3 + 1.5 * iqr)]\n",
    "out.count()"
   ],
   "id": "8f3c744eaebb72bb",
   "outputs": [
    {
     "data": {
      "text/plain": [
       "customer_id           0\n",
       "age                   0\n",
       "num_orders            5\n",
       "total_spent          23\n",
       "avg_order_value      15\n",
       "recency_days         10\n",
       "is_premium_member     0\n",
       "churned              22\n",
       "dtype: int64"
      ]
     },
     "execution_count": 59,
     "metadata": {},
     "output_type": "execute_result"
    }
   ],
   "execution_count": 59
  },
  {
   "metadata": {
    "ExecuteTime": {
     "end_time": "2025-10-13T04:57:52.019935Z",
     "start_time": "2025-10-13T04:57:51.730341Z"
    }
   },
   "cell_type": "code",
   "source": [
    "plt.figure(figsize=(20, 6))\n",
    "sns.boxplot(df)\n",
    "\n",
    "plt.show()"
   ],
   "id": "63437f7d511aac22",
   "outputs": [
    {
     "data": {
      "text/plain": [
       "<Figure size 2000x600 with 1 Axes>"
      ],
      "image/png": "[encoded data removed]"
     },
     "metadata": {},
     "output_type": "display_data"
    }
   ],
   "execution_count": 60
  },
  {
   "metadata": {
    "ExecuteTime": {
     "end_time": "2025-10-13T04:57:52.092019Z",
     "start_time": "2025-10-13T04:57:52.079823Z"
    }
   },
   "cell_type": "code",
   "source": "df['age']",
   "id": "be241cf5d8d79647",
   "outputs": [
    {
     "data": {
      "text/plain": [
       "0      56.0\n",
       "1      69.0\n",
       "2      46.0\n",
       "3      32.0\n",
       "4      60.0\n",
       "       ... \n",
       "600    25.0\n",
       "601    50.0\n",
       "602    46.0\n",
       "603    32.0\n",
       "604    44.0\n",
       "Name: age, Length: 605, dtype: float64"
      ]
     },
     "execution_count": 61,
     "metadata": {},
     "output_type": "execute_result"
    }
   ],
   "execution_count": 61
  },
  {
   "metadata": {
    "ExecuteTime": {
     "end_time": "2025-10-13T04:57:56.688250Z",
     "start_time": "2025-10-13T04:57:56.673211Z"
    }
   },
   "cell_type": "code",
   "source": [
    "# applying normalization on age column\n",
    "\n",
    "age_min = df['age'].min()\n",
    "age_max = df['age'].max()\n",
    "\n",
    "print(age_min, age_max)\n",
    "\n",
    "df['normalized_age'] = df['age'].apply(lambda x: (x - age_min) / (age_max - age_min))\n",
    "df['normalized_age']"
   ],
   "id": "b91306f0c480ee88",
   "outputs": [
    {
     "name": "stdout",
     "output_type": "stream",
     "text": [
      "18.0 69.0\n"
     ]
    },
    {
     "data": {
      "text/plain": [
       "0      0.745098\n",
       "1      1.000000\n",
       "2      0.549020\n",
       "3      0.274510\n",
       "4      0.823529\n",
       "         ...   \n",
       "600    0.137255\n",
       "601    0.627451\n",
       "602    0.549020\n",
       "603    0.274510\n",
       "604    0.509804\n",
       "Name: normalized_age, Length: 605, dtype: float64"
      ]
     },
     "execution_count": 63,
     "metadata": {},
     "output_type": "execute_result"
    }
   ],
   "execution_count": 63
  },
  {
   "metadata": {
    "ExecuteTime": {
     "end_time": "2025-10-13T04:58:07.613651Z",
     "start_time": "2025-10-13T04:58:07.601624Z"
    }
   },
   "cell_type": "code",
   "source": "df['age']",
   "id": "2bc3eaa041d799a2",
   "outputs": [
    {
     "data": {
      "text/plain": [
       "0      56.0\n",
       "1      69.0\n",
       "2      46.0\n",
       "3      32.0\n",
       "4      60.0\n",
       "       ... \n",
       "600    25.0\n",
       "601    50.0\n",
       "602    46.0\n",
       "603    32.0\n",
       "604    44.0\n",
       "Name: age, Length: 605, dtype: float64"
      ]
     },
     "execution_count": 65,
     "metadata": {},
     "output_type": "execute_result"
    }
   ],
   "execution_count": 65
  },
  {
   "metadata": {
    "ExecuteTime": {
     "end_time": "2025-10-13T05:14:49.549818Z",
     "start_time": "2025-10-13T05:14:49.541354Z"
    }
   },
   "cell_type": "code",
   "source": [
    "age_std = df['age'].std()\n",
    "age_mean = df['age'].mean()\n",
    "\n",
    "df['standardized_age'] = df['age'].apply(lambda x: ((x - age_mean) / age_std))\n",
    "print(f\"Mean of standardized_age: {df['standardized_age'].mean():.16f}\")"
   ],
   "id": "6f6dd631fc0d9425",
   "outputs": [
    {
     "name": "stdout",
     "output_type": "stream",
     "text": [
      "Mean of standardized_age: -0.0000000000000004\n"
     ]
    }
   ],
   "execution_count": 78
  },
  {
   "metadata": {},
   "cell_type": "code",
   "outputs": [],
   "execution_count": null,
   "source": "",
   "id": "3a2f57c10ddd38e8"
  },
  {
   "metadata": {},
   "cell_type": "markdown",
   "source": "# todays agenda",
   "id": "5d4145e9efb7f544"
  },
  {
   "metadata": {
    "ExecuteTime": {
     "end_time": "2025-10-13T05:20:14.559782Z",
     "start_time": "2025-10-13T05:20:14.554680Z"
    }
   },
   "cell_type": "code",
   "source": "from sklearn.preprocessing import StandardScaler, MinMaxScaler",
   "id": "f941f88bd745bee3",
   "outputs": [],
   "execution_count": 85
  },
  {
   "metadata": {
    "ExecuteTime": {
     "end_time": "2025-10-13T05:29:47.071637Z",
     "start_time": "2025-10-13T05:29:47.040760Z"
    }
   },
   "cell_type": "code",
   "source": [
    "data = {\n",
    "    'Age' : [18, 22, 45, 60, 80],\n",
    "    'Income' : [2000, 3000, 10000, 40000, 80000]\n",
    "}\n",
    "\n",
    "dummy_df = pd.DataFrame(data)\n",
    "\n",
    "#normalization\n",
    "norm = MinMaxScaler()\n",
    "dummy_df_norm = pd.DataFrame(norm.fit_transform(dummy_df), columns=dummy_df.columns)\n",
    "\n",
    "#standardization\n",
    "std = StandardScaler()\n",
    "dummy_df_std = pd.DataFrame(std.fit_transform(dummy_df), columns=dummy_df.columns)\n",
    "\n",
    "\n",
    "print(\"original: \\n\", dummy_df)\n",
    "print(\"normalized: \\n\", dummy_df_norm)\n",
    "print(\"standardized: \\n\", dummy_df_std)"
   ],
   "id": "6d6828d74286f2b6",
   "outputs": [
    {
     "name": "stdout",
     "output_type": "stream",
     "text": [
      "original: \n",
      "    Age  Income\n",
      "0   18    2000\n",
      "1   22    3000\n",
      "2   45   10000\n",
      "3   60   40000\n",
      "4   80   80000\n",
      "normalized: \n",
      "         Age    Income\n",
      "0  0.000000  0.000000\n",
      "1  0.064516  0.012821\n",
      "2  0.435484  0.102564\n",
      "3  0.677419  0.487179\n",
      "4  1.000000  1.000000\n",
      "standardized: \n",
      "         Age    Income\n",
      "0 -1.160177 -0.836312\n",
      "1 -0.988299 -0.802860\n",
      "2  0.000000 -0.568692\n",
      "3  0.644543  0.434882\n",
      "4  1.503934  1.772982\n"
     ]
    }
   ],
   "execution_count": 89
  },
  {
   "metadata": {
    "ExecuteTime": {
     "end_time": "2025-10-13T05:31:28.676925Z",
     "start_time": "2025-10-13T05:31:28.650560Z"
    }
   },
   "cell_type": "code",
   "source": [
    "#normalization and standardization on numeric rows of ecoomerce data\n",
    "df_norm = pd.DataFrame(norm.fit_transform(df), columns=df.columns)\n",
    "df_std = pd.DataFrame(std.fit_transform(df), columns=df.columns)\n",
    "\n",
    "print(\"original: \\n\", df)\n",
    "print(\"normalized: \\n\", df_norm)\n",
    "print(\"standardized: \\n\", df_std)\n"
   ],
   "id": "b15e6703bbaff6da",
   "outputs": [
    {
     "name": "stdout",
     "output_type": "stream",
     "text": [
      "original: \n",
      "      customer_id   age  num_orders   total_spent  avg_order_value  \\\n",
      "0          10001  56.0          10  13273.250000          1327.32   \n",
      "1          10002  69.0          10   8059.212137           308.90   \n",
      "2          10003  46.0           5   3411.830000           682.37   \n",
      "3          10004  32.0           5   4502.000000           900.40   \n",
      "4          10005  60.0           7   3842.100000           548.87   \n",
      "..           ...   ...         ...           ...              ...   \n",
      "600        10358  25.0           7   8059.212137             0.00   \n",
      "601        10117  50.0           4   3640.070000           910.02   \n",
      "602        10599  46.0           6   2176.220000           362.70   \n",
      "603        10442  32.0           3   5478.650000          1826.22   \n",
      "604        10555  44.0           6   5408.130000           901.36   \n",
      "\n",
      "     recency_days  is_premium_member  churned  normalized_age  \\\n",
      "0             522                  0        0        0.745098   \n",
      "1              61                  0        0        1.000000   \n",
      "2            1583                  0        0        0.549020   \n",
      "3             740                  0        0        0.274510   \n",
      "4            1390                  0        0        0.823529   \n",
      "..            ...                ...      ...             ...   \n",
      "600           105                  1        0        0.137255   \n",
      "601           327                  0        0        0.627451   \n",
      "602           463                  1        0        0.549020   \n",
      "603           376                  0        0        0.274510   \n",
      "604           296                  0        0        0.509804   \n",
      "\n",
      "     standardized_age  \n",
      "0            0.808408  \n",
      "1            1.697148  \n",
      "2            0.124762  \n",
      "3           -0.832342  \n",
      "4            1.081867  \n",
      "..                ...  \n",
      "600         -1.310894  \n",
      "601          0.398221  \n",
      "602          0.124762  \n",
      "603         -0.832342  \n",
      "604         -0.011967  \n",
      "\n",
      "[605 rows x 10 columns]\n",
      "normalized: \n",
      "      customer_id       age  num_orders  total_spent  avg_order_value  \\\n",
      "0       0.000000  0.745098    0.769231     0.107136         0.116107   \n",
      "1       0.001669  1.000000    0.769231     0.065050         0.027021   \n",
      "2       0.003339  0.549020    0.384615     0.027539         0.059690   \n",
      "3       0.005008  0.274510    0.384615     0.036338         0.078762   \n",
      "4       0.006678  0.823529    0.538462     0.031012         0.048012   \n",
      "..           ...       ...         ...          ...              ...   \n",
      "600     0.595993  0.137255    0.538462     0.065050         0.000000   \n",
      "601     0.193656  0.627451    0.307692     0.029381         0.079604   \n",
      "602     0.998331  0.549020    0.461538     0.017565         0.031727   \n",
      "603     0.736227  0.274510    0.230769     0.044221         0.159748   \n",
      "604     0.924875  0.509804    0.461538     0.043652         0.078846   \n",
      "\n",
      "     recency_days  is_premium_member  churned  normalized_age  \\\n",
      "0        0.309382                0.0      0.0        0.745098   \n",
      "1        0.035629                0.0      0.0        1.000000   \n",
      "2        0.939430                0.0      0.0        0.549020   \n",
      "3        0.438836                0.0      0.0        0.274510   \n",
      "4        0.824822                0.0      0.0        0.823529   \n",
      "..            ...                ...      ...             ...   \n",
      "600      0.061758                1.0      0.0        0.137255   \n",
      "601      0.193587                0.0      0.0        0.627451   \n",
      "602      0.274347                1.0      0.0        0.549020   \n",
      "603      0.222684                0.0      0.0        0.274510   \n",
      "604      0.175178                0.0      0.0        0.509804   \n",
      "\n",
      "     standardized_age  \n",
      "0            0.745098  \n",
      "1            1.000000  \n",
      "2            0.549020  \n",
      "3            0.274510  \n",
      "4            0.823529  \n",
      "..                ...  \n",
      "600          0.137255  \n",
      "601          0.627451  \n",
      "602          0.549020  \n",
      "603          0.274510  \n",
      "604          0.509804  \n",
      "\n",
      "[605 rows x 10 columns]\n",
      "standardized: \n",
      "      customer_id       age  num_orders   total_spent  avg_order_value  \\\n",
      "0      -1.731715  0.809077    1.739429  5.191695e-01         0.042695   \n",
      "1      -1.725952  1.698552    1.739429  1.811195e-16        -0.864250   \n",
      "2      -1.720188  0.124866   -0.405607 -4.627467e-01        -0.531660   \n",
      "3      -1.714424 -0.833031   -0.405607 -3.541969e-01        -0.337495   \n",
      "4      -1.708660  1.082762    0.452408 -4.199041e-01        -0.650547   \n",
      "..           ...       ...         ...           ...              ...   \n",
      "600     0.326010 -1.311979    0.452408  1.811195e-16        -1.139338   \n",
      "601    -1.063099  0.398550   -0.834614 -4.400205e-01        -0.328928   \n",
      "602     1.715119  0.124866    0.023400 -5.857782e-01        -0.816339   \n",
      "603     0.810181 -0.833031   -1.263621 -2.569504e-01         0.486986   \n",
      "604     1.461506 -0.011977    0.023400 -2.639722e-01        -0.336640   \n",
      "\n",
      "     recency_days  is_premium_member   churned  normalized_age  \\\n",
      "0        0.162699          -0.645648 -0.194257        0.809077   \n",
      "1       -0.974240          -0.645648 -0.194257        1.698552   \n",
      "2        2.779384          -0.645648 -0.194257        0.124866   \n",
      "3        0.700340          -0.645648 -0.194257       -0.833031   \n",
      "4        2.303399          -0.645648 -0.194257        1.082762   \n",
      "..            ...                ...       ...             ...   \n",
      "600     -0.865725           1.548831 -0.194257       -1.311979   \n",
      "601     -0.318219          -0.645648 -0.194257        0.398550   \n",
      "602      0.017190           1.548831 -0.194257        0.124866   \n",
      "603     -0.197373          -0.645648 -0.194257       -0.833031   \n",
      "604     -0.394672          -0.645648 -0.194257       -0.011977   \n",
      "\n",
      "     standardized_age  \n",
      "0            0.809077  \n",
      "1            1.698552  \n",
      "2            0.124866  \n",
      "3           -0.833031  \n",
      "4            1.082762  \n",
      "..                ...  \n",
      "600         -1.311979  \n",
      "601          0.398550  \n",
      "602          0.124866  \n",
      "603         -0.833031  \n",
      "604         -0.011977  \n",
      "\n",
      "[605 rows x 10 columns]\n"
     ]
    }
   ],
   "execution_count": 93
  }
 ],
 "metadata": {
  "kernelspec": {
   "display_name": ".venv",
   "language": "python",
   "name": "python3"
  },
  "language_info": {
   "codemirror_mode": {
    "name": "ipython",
    "version": 3
   },
   "file_extension": ".py",
   "mimetype": "text/x-python",
   "name": "python",
   "nbconvert_exporter": "python",
   "pygments_lexer": "ipython3",
   "version": "3.12.3"
  }
 },
 "nbformat": 4,
 "nbformat_minor": 5
}
