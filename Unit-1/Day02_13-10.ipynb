{
 "cells": [
  {
   "cell_type": "code",
   "id": "initial_id",
   "metadata": {
    "collapsed": true,
    "ExecuteTime": {
     "end_time": "2025-10-13T04:04:17.417413Z",
     "start_time": "2025-10-13T04:04:17.413879Z"
    }
   },
   "source": [
    "import numpy as np\n",
    "import pandas as pd\n",
    "import matplotlib.pyplot as plt\n",
    "import seaborn as sns"
   ],
   "outputs": [],
   "execution_count": 1
  },
  {
   "metadata": {
    "ExecuteTime": {
     "end_time": "2025-10-13T04:05:01.252213Z",
     "start_time": "2025-10-13T04:05:01.222951Z"
    }
   },
   "cell_type": "code",
   "source": [
    "df = pd.read_csv(\"../DataSets/ecommerce_customers_unit1.csv\")\n",
    "df"
   ],
   "id": "7184af95329fba99",
   "outputs": [
    {
     "data": {
      "text/plain": [
       "     customer_id   age  gender  country signup_date last_purchase_date  \\\n",
       "0          10001  56.0    Male    India  2022-01-27         2024-04-27   \n",
       "1          10002  69.0   Other       UK  2025-01-12         2025-08-01   \n",
       "2          10003  46.0  Female      USA  2021-04-25         2021-06-01   \n",
       "3          10004  32.0    Male    India  2021-02-23         2023-09-22   \n",
       "4          10005  60.0  Female    India  2021-06-07         2021-12-11   \n",
       "..           ...   ...     ...      ...         ...                ...   \n",
       "600        10358  25.0  Female    India  2023-09-04         2025-06-18   \n",
       "601        10117  50.0    Male      USA  2024-05-11         2024-11-08   \n",
       "602        10599  46.0    Male    India  2020-12-01         2024-06-25   \n",
       "603        10442  32.0  Female       UK  2023-12-20         2024-09-20   \n",
       "604        10555  44.0  Female  Germany  2024-06-16         2024-12-09   \n",
       "\n",
       "     num_orders  total_spent  avg_order_value  recency_days  \\\n",
       "0            10     13273.25          1327.32           522   \n",
       "1            10          NaN           308.90            61   \n",
       "2             5      3411.83           682.37          1583   \n",
       "3             5      4502.00           900.40           740   \n",
       "4             7      3842.10           548.87          1390   \n",
       "..          ...          ...              ...           ...   \n",
       "600           7          NaN             0.00           105   \n",
       "601           4      3640.07           910.02           327   \n",
       "602           6      2176.22           362.70           463   \n",
       "603           3      5478.65          1826.22           376   \n",
       "604           6      5408.13           901.36           296   \n",
       "\n",
       "     is_premium_member device_type preferred_category  churned  \n",
       "0                    0         NaN               Home        0  \n",
       "1                    0      Mobile            Grocery        0  \n",
       "2                    0         NaN                NaN        0  \n",
       "3                    0         NaN                NaN        0  \n",
       "4                    0      Tablet              Books        0  \n",
       "..                 ...         ...                ...      ...  \n",
       "600                  1      Mobile        Electronics        0  \n",
       "601                  0      Mobile        Electronics        0  \n",
       "602                  1     Desktop        Electronics        0  \n",
       "603                  0      Mobile               Home        0  \n",
       "604                  0      Mobile            Fashion        0  \n",
       "\n",
       "[605 rows x 14 columns]"
      ],
      "text/html": [
       "<div>\n",
       "<style scoped>\n",
       "    .dataframe tbody tr th:only-of-type {\n",
       "        vertical-align: middle;\n",
       "    }\n",
       "\n",
       "    .dataframe tbody tr th {\n",
       "        vertical-align: top;\n",
       "    }\n",
       "\n",
       "    .dataframe thead th {\n",
       "        text-align: right;\n",
       "    }\n",
       "</style>\n",
       "<table border=\"1\" class=\"dataframe\">\n",
       "  <thead>\n",
       "    <tr style=\"text-align: right;\">\n",
       "      <th></th>\n",
       "      <th>customer_id</th>\n",
       "      <th>age</th>\n",
       "      <th>gender</th>\n",
       "      <th>country</th>\n",
       "      <th>signup_date</th>\n",
       "      <th>last_purchase_date</th>\n",
       "      <th>num_orders</th>\n",
       "      <th>total_spent</th>\n",
       "      <th>avg_order_value</th>\n",
       "      <th>recency_days</th>\n",
       "      <th>is_premium_member</th>\n",
       "      <th>device_type</th>\n",
       "      <th>preferred_category</th>\n",
       "      <th>churned</th>\n",
       "    </tr>\n",
       "  </thead>\n",
       "  <tbody>\n",
       "    <tr>\n",
       "      <th>0</th>\n",
       "      <td>10001</td>\n",
       "      <td>56.0</td>\n",
       "      <td>Male</td>\n",
       "      <td>India</td>\n",
       "      <td>2022-01-27</td>\n",
       "      <td>2024-04-27</td>\n",
       "      <td>10</td>\n",
       "      <td>13273.25</td>\n",
       "      <td>1327.32</td>\n",
       "      <td>522</td>\n",
       "      <td>0</td>\n",
       "      <td>NaN</td>\n",
       "      <td>Home</td>\n",
       "      <td>0</td>\n",
       "    </tr>\n",
       "    <tr>\n",
       "      <th>1</th>\n",
       "      <td>10002</td>\n",
       "      <td>69.0</td>\n",
       "      <td>Other</td>\n",
       "      <td>UK</td>\n",
       "      <td>2025-01-12</td>\n",
       "      <td>2025-08-01</td>\n",
       "      <td>10</td>\n",
       "      <td>NaN</td>\n",
       "      <td>308.90</td>\n",
       "      <td>61</td>\n",
       "      <td>0</td>\n",
       "      <td>Mobile</td>\n",
       "      <td>Grocery</td>\n",
       "      <td>0</td>\n",
       "    </tr>\n",
       "    <tr>\n",
       "      <th>2</th>\n",
       "      <td>10003</td>\n",
       "      <td>46.0</td>\n",
       "      <td>Female</td>\n",
       "      <td>USA</td>\n",
       "      <td>2021-04-25</td>\n",
       "      <td>2021-06-01</td>\n",
       "      <td>5</td>\n",
       "      <td>3411.83</td>\n",
       "      <td>682.37</td>\n",
       "      <td>1583</td>\n",
       "      <td>0</td>\n",
       "      <td>NaN</td>\n",
       "      <td>NaN</td>\n",
       "      <td>0</td>\n",
       "    </tr>\n",
       "    <tr>\n",
       "      <th>3</th>\n",
       "      <td>10004</td>\n",
       "      <td>32.0</td>\n",
       "      <td>Male</td>\n",
       "      <td>India</td>\n",
       "      <td>2021-02-23</td>\n",
       "      <td>2023-09-22</td>\n",
       "      <td>5</td>\n",
       "      <td>4502.00</td>\n",
       "      <td>900.40</td>\n",
       "      <td>740</td>\n",
       "      <td>0</td>\n",
       "      <td>NaN</td>\n",
       "      <td>NaN</td>\n",
       "      <td>0</td>\n",
       "    </tr>\n",
       "    <tr>\n",
       "      <th>4</th>\n",
       "      <td>10005</td>\n",
       "      <td>60.0</td>\n",
       "      <td>Female</td>\n",
       "      <td>India</td>\n",
       "      <td>2021-06-07</td>\n",
       "      <td>2021-12-11</td>\n",
       "      <td>7</td>\n",
       "      <td>3842.10</td>\n",
       "      <td>548.87</td>\n",
       "      <td>1390</td>\n",
       "      <td>0</td>\n",
       "      <td>Tablet</td>\n",
       "      <td>Books</td>\n",
       "      <td>0</td>\n",
       "    </tr>\n",
       "    <tr>\n",
       "      <th>...</th>\n",
       "      <td>...</td>\n",
       "      <td>...</td>\n",
       "      <td>...</td>\n",
       "      <td>...</td>\n",
       "      <td>...</td>\n",
       "      <td>...</td>\n",
       "      <td>...</td>\n",
       "      <td>...</td>\n",
       "      <td>...</td>\n",
       "      <td>...</td>\n",
       "      <td>...</td>\n",
       "      <td>...</td>\n",
       "      <td>...</td>\n",
       "      <td>...</td>\n",
       "    </tr>\n",
       "    <tr>\n",
       "      <th>600</th>\n",
       "      <td>10358</td>\n",
       "      <td>25.0</td>\n",
       "      <td>Female</td>\n",
       "      <td>India</td>\n",
       "      <td>2023-09-04</td>\n",
       "      <td>2025-06-18</td>\n",
       "      <td>7</td>\n",
       "      <td>NaN</td>\n",
       "      <td>0.00</td>\n",
       "      <td>105</td>\n",
       "      <td>1</td>\n",
       "      <td>Mobile</td>\n",
       "      <td>Electronics</td>\n",
       "      <td>0</td>\n",
       "    </tr>\n",
       "    <tr>\n",
       "      <th>601</th>\n",
       "      <td>10117</td>\n",
       "      <td>50.0</td>\n",
       "      <td>Male</td>\n",
       "      <td>USA</td>\n",
       "      <td>2024-05-11</td>\n",
       "      <td>2024-11-08</td>\n",
       "      <td>4</td>\n",
       "      <td>3640.07</td>\n",
       "      <td>910.02</td>\n",
       "      <td>327</td>\n",
       "      <td>0</td>\n",
       "      <td>Mobile</td>\n",
       "      <td>Electronics</td>\n",
       "      <td>0</td>\n",
       "    </tr>\n",
       "    <tr>\n",
       "      <th>602</th>\n",
       "      <td>10599</td>\n",
       "      <td>46.0</td>\n",
       "      <td>Male</td>\n",
       "      <td>India</td>\n",
       "      <td>2020-12-01</td>\n",
       "      <td>2024-06-25</td>\n",
       "      <td>6</td>\n",
       "      <td>2176.22</td>\n",
       "      <td>362.70</td>\n",
       "      <td>463</td>\n",
       "      <td>1</td>\n",
       "      <td>Desktop</td>\n",
       "      <td>Electronics</td>\n",
       "      <td>0</td>\n",
       "    </tr>\n",
       "    <tr>\n",
       "      <th>603</th>\n",
       "      <td>10442</td>\n",
       "      <td>32.0</td>\n",
       "      <td>Female</td>\n",
       "      <td>UK</td>\n",
       "      <td>2023-12-20</td>\n",
       "      <td>2024-09-20</td>\n",
       "      <td>3</td>\n",
       "      <td>5478.65</td>\n",
       "      <td>1826.22</td>\n",
       "      <td>376</td>\n",
       "      <td>0</td>\n",
       "      <td>Mobile</td>\n",
       "      <td>Home</td>\n",
       "      <td>0</td>\n",
       "    </tr>\n",
       "    <tr>\n",
       "      <th>604</th>\n",
       "      <td>10555</td>\n",
       "      <td>44.0</td>\n",
       "      <td>Female</td>\n",
       "      <td>Germany</td>\n",
       "      <td>2024-06-16</td>\n",
       "      <td>2024-12-09</td>\n",
       "      <td>6</td>\n",
       "      <td>5408.13</td>\n",
       "      <td>901.36</td>\n",
       "      <td>296</td>\n",
       "      <td>0</td>\n",
       "      <td>Mobile</td>\n",
       "      <td>Fashion</td>\n",
       "      <td>0</td>\n",
       "    </tr>\n",
       "  </tbody>\n",
       "</table>\n",
       "<p>605 rows × 14 columns</p>\n",
       "</div>"
      ]
     },
     "execution_count": 2,
     "metadata": {},
     "output_type": "execute_result"
    }
   ],
   "execution_count": 2
  },
  {
   "metadata": {
    "ExecuteTime": {
     "end_time": "2025-10-13T04:06:38.049638Z",
     "start_time": "2025-10-13T04:06:38.036507Z"
    }
   },
   "cell_type": "code",
   "source": [
    "target = df.isna().sum().sort_values(ascending=False)\n",
    "target"
   ],
   "id": "3c2393302d923432",
   "outputs": [
    {
     "data": {
      "text/plain": [
       "gender                34\n",
       "total_spent           34\n",
       "country               32\n",
       "device_type           30\n",
       "age                   28\n",
       "preferred_category    22\n",
       "last_purchase_date     0\n",
       "signup_date            0\n",
       "customer_id            0\n",
       "num_orders             0\n",
       "recency_days           0\n",
       "avg_order_value        0\n",
       "is_premium_member      0\n",
       "churned                0\n",
       "dtype: int64"
      ]
     },
     "execution_count": 7,
     "metadata": {},
     "output_type": "execute_result"
    }
   ],
   "execution_count": 7
  },
  {
   "metadata": {
    "ExecuteTime": {
     "end_time": "2025-10-13T04:07:29.309019Z",
     "start_time": "2025-10-13T04:07:29.161871Z"
    }
   },
   "cell_type": "code",
   "source": [
    "#barplot using plt\n",
    "\n",
    "plt.figure(figsize=(20, 6))\n",
    "plt.bar(target.index, target)\n",
    "plt.xticks(rotation=90)\n",
    "plt.show()"
   ],
   "id": "a7010897e0b62bd3",
   "outputs": [
    {
     "data": {
      "text/plain": [
       "<Figure size 2000x600 with 1 Axes>"
      ],
      "image/png": "[encoded data removed]"
     },
     "metadata": {},
     "output_type": "display_data"
    }
   ],
   "execution_count": 10
  },
  {
   "metadata": {
    "ExecuteTime": {
     "end_time": "2025-10-13T04:10:24.786183Z",
     "start_time": "2025-10-13T04:10:24.616728Z"
    }
   },
   "cell_type": "code",
   "source": [
    "#barplot using sns\n",
    "\n",
    "plt.figure(figsize=(20, 6))\n",
    "sns.barplot(target)\n",
    "plt.xticks(rotation=90)\n",
    "plt.show()"
   ],
   "id": "e3d51daf4a2c27a5",
   "outputs": [
    {
     "data": {
      "text/plain": [
       "<Figure size 2000x600 with 1 Axes>"
      ],
      "image/png": "[encoded data removed]"
     },
     "metadata": {},
     "output_type": "display_data"
    }
   ],
   "execution_count": 12
  },
  {
   "metadata": {
    "ExecuteTime": {
     "end_time": "2025-10-13T04:10:48.480241Z",
     "start_time": "2025-10-13T04:10:48.461885Z"
    }
   },
   "cell_type": "code",
   "source": [
    "df = df.select_dtypes(include=[np.number])\n",
    "\n",
    "q1 = df.quantile(0.25)\n",
    "q3 = df.quantile(0.75)\n",
    "\n",
    "iqr = q3 - q1\n",
    "\n",
    "out = df[(df < q1 - 1.5 * iqr) | (df > q3 + 1.5 * iqr)]\n",
    "out.count()"
   ],
   "id": "57f97da72be7eb0f",
   "outputs": [
    {
     "data": {
      "text/plain": [
       "customer_id           0\n",
       "age                   0\n",
       "num_orders            5\n",
       "total_spent          21\n",
       "avg_order_value      15\n",
       "recency_days         10\n",
       "is_premium_member     0\n",
       "churned              22\n",
       "dtype: int64"
      ]
     },
     "execution_count": 13,
     "metadata": {},
     "output_type": "execute_result"
    }
   ],
   "execution_count": 13
  }
 ],
 "metadata": {
  "kernelspec": {
   "display_name": "Python 3",
   "language": "python",
   "name": "python3"
  },
  "language_info": {
   "codemirror_mode": {
    "name": "ipython",
    "version": 2
   },
   "file_extension": ".py",
   "mimetype": "text/x-python",
   "name": "python",
   "nbconvert_exporter": "python",
   "pygments_lexer": "ipython2",
   "version": "2.7.6"
  }
 },
 "nbformat": 4,
 "nbformat_minor": 5
}
